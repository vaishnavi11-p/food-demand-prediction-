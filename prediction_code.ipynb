{
 "cells": [
  {
   "cell_type": "code",
   "execution_count": 13,
   "id": "945f1967-ccf1-4908-b7d7-994541f75d4e",
   "metadata": {
    "execution": {
     "iopub.execute_input": "2025-09-24T16:04:02.427459Z",
     "iopub.status.busy": "2025-09-24T16:04:02.427158Z",
     "iopub.status.idle": "2025-09-24T16:04:12.939746Z",
     "shell.execute_reply": "2025-09-24T16:04:12.939012Z",
     "shell.execute_reply.started": "2025-09-24T16:04:02.427436Z"
    }
   },
   "outputs": [
    {
     "name": "stdout",
     "output_type": "stream",
     "text": [
      "\n",
      "--- Enter details for forecast ---\n"
     ]
    },
    {
     "name": "stdin",
     "output_type": "stream",
     "text": [
      "Day of week (friday, monday, saturday, sunday, thursday, tuesday, wednesday):  sunday\n",
      "Weather (cloudy, rainy, sunny):  sunny\n",
      "Dish (biryani, burger, pasta, pizza, salad, sandwich):  pizza\n"
     ]
    },
    {
     "name": "stdout",
     "output_type": "stream",
     "text": [
      "\n",
      "✅ Forecast for Pizza\n",
      "-------------------------------\n",
      "Mean Predicted Sales: 51\n",
      "Low Estimate (P10):  47\n",
      "High Estimate (P90): 55\n"
     ]
    }
   ],
   "source": [
    "import json\n",
    "from datetime import datetime\n",
    "import sagemaker\n",
    "from sagemaker.predictor import Predictor\n",
    "from sagemaker.serializers import IdentitySerializer\n",
    "from sagemaker.deserializers import JSONDeserializer\n",
    "\n",
    "# 1) Set your deployed endpoint name\n",
    "ENDPOINT_NAME = \"food-demand\"  # e.g., restaurant-demand-predictor-01\n",
    "\n",
    "# 2) Mappings for categorical features\n",
    "# ORDER REQUIRED BY YOUR MODEL: [day_of_week, weather, menu_item]\n",
    "DAY_MAPPING = {\"friday\": 0, \"monday\": 1, \"saturday\": 2, \"sunday\": 3, \"thursday\": 4, \"tuesday\": 5, \"wednesday\": 6}\n",
    "WEATHER_MAPPING = {\"cloudy\": 0, \"rainy\": 1, \"sunny\": 2}\n",
    "DISH_MAPPING = {\"biryani\": 0, \"burger\": 1, \"pasta\": 2, \"pizza\": 3, \"salad\": 4, \"sandwich\": 5}\n",
    "\n",
    "def get_user_inputs():\n",
    "    print(\"\\n--- Enter details for forecast ---\")\n",
    "    while True:\n",
    "        try:\n",
    "            day = input(f\"Day of week ({', '.join(DAY_MAPPING.keys())}): \").lower().strip()\n",
    "            if day not in DAY_MAPPING:\n",
    "                print(\"Invalid day. Try again.\"); continue\n",
    "\n",
    "            weather = input(f\"Weather ({', '.join(WEATHER_MAPPING.keys())}): \").lower().strip()\n",
    "            if weather not in WEATHER_MAPPING:\n",
    "                print(\"Invalid weather. Try again.\"); continue\n",
    "\n",
    "            dish = input(f\"Dish ({', '.join(DISH_MAPPING.keys())}): \").lower().strip()\n",
    "            if dish not in DISH_MAPPING:\n",
    "                print(\"Invalid dish. Try again.\"); continue\n",
    "\n",
    "            return DAY_MAPPING[day], WEATHER_MAPPING[weather], DISH_MAPPING[dish], dish.capitalize()\n",
    "        except Exception:\n",
    "            print(\"Invalid input. Try again.\")\n",
    "\n",
    "def get_prediction(endpoint_name, day_code, weather_code, dish_code, dish_name):\n",
    "    # Build request with order [day_of_week, weather, menu_item]\n",
    "    payload = {\n",
    "        \"instances\": [{\n",
    "            \"start\": datetime.now().strftime(\"%Y-%m-%d %H:%M:%S\"),\n",
    "            \"target\": [0],  # placeholder required by DeepAR for inference\n",
    "            \"cat\": [day_code, weather_code, dish_code]\n",
    "        }],\n",
    "        \"configuration\": {\n",
    "            \"num_samples\": 500,\n",
    "            \"output_types\": [\"mean\", \"quantiles\"],\n",
    "            \"quantiles\": [\"0.1\", \"0.9\"]\n",
    "        }\n",
    "    }\n",
    "\n",
    "    # Optional safety checks to avoid out-of-range errors\n",
    "    assert 0 <= day_code <= 6, \"day_of_week out of range (0–6)\"\n",
    "    assert 0 <= weather_code <= 2, \"weather out of range (0–2)\"\n",
    "    assert 0 <= dish_code <= 5, \"menu_item out of range (0–5)\"\n",
    "\n",
    "    predictor = Predictor(\n",
    "        endpoint_name=endpoint_name,\n",
    "        sagemaker_session=sagemaker.Session(),\n",
    "        serializer=IdentitySerializer(content_type=\"application/json\"),\n",
    "        deserializer=JSONDeserializer()\n",
    "    )\n",
    "\n",
    "    resp = predictor.predict(json.dumps(payload))\n",
    "    pred = resp[\"predictions\"][0]\n",
    "\n",
    "    mean_val = pred[\"mean\"][0]\n",
    "    low = pred[\"quantiles\"][\"0.1\"][0]\n",
    "    high = pred[\"quantiles\"][\"0.9\"][0]\n",
    "\n",
    "    # Print integers\n",
    "    mean_int = int(round(mean_val))\n",
    "    low_int = int(round(low))\n",
    "    high_int = int(round(high))\n",
    "\n",
    "    print(f\"\\n✅ Forecast for {dish_name}\")\n",
    "    print(\"-------------------------------\")\n",
    "    print(f\"Mean Predicted Sales: {mean_int}\")\n",
    "    print(f\"Low Estimate (P10):  {low_int}\")\n",
    "    print(f\"High Estimate (P90): {high_int}\")\n",
    "\n",
    "if __name__ == \"__main__\":\n",
    "    d, w, dish_code, dish_name = get_user_inputs()\n",
    "    get_prediction(ENDPOINT_NAME, d, w, dish_code, dish_name)"
   ]
  },
  {
   "cell_type": "code",
   "execution_count": null,
   "id": "560d8d50-a102-433c-8c35-b8eee82555a1",
   "metadata": {},
   "outputs": [],
   "source": []
  },
  {
   "cell_type": "code",
   "execution_count": null,
   "id": "0f283480-1f49-4d6e-bf48-81723c390f97",
   "metadata": {},
   "outputs": [],
   "source": []
  }
 ],
 "metadata": {
  "kernelspec": {
   "display_name": "Python 3 (ipykernel)",
   "language": "python",
   "name": "python3"
  },
  "language_info": {
   "codemirror_mode": {
    "name": "ipython",
    "version": 3
   },
   "file_extension": ".py",
   "mimetype": "text/x-python",
   "name": "python",
   "nbconvert_exporter": "python",
   "pygments_lexer": "ipython3",
   "version": "3.12.9"
  }
 },
 "nbformat": 4,
 "nbformat_minor": 5
}
